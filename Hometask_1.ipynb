{
  "metadata": {
    "language_info": {
      "codemirror_mode": {
        "name": "python",
        "version": 3
      },
      "file_extension": ".py",
      "mimetype": "text/x-python",
      "name": "python",
      "nbconvert_exporter": "python",
      "pygments_lexer": "ipython3",
      "version": "3.8"
    },
    "kernelspec": {
      "name": "python",
      "display_name": "Python (Pyodide)",
      "language": "python"
    }
  },
  "nbformat_minor": 4,
  "nbformat": 4,
  "cells": [
    {
      "cell_type": "code",
      "source": "#https://edabit.com/challenge/YxnrZQwKyrzgcMvT4\ndef rotate_transform(arr, num):\n    k = (-num)%4\n    for s in range(k):\n        rot(arr)\n    \n \n    return arr\n\ndef rot(arr):\n    for i in range(len(arr)):\n        for j in range(i):\n            arr[i][j], arr[j][i] = arr[j][i], arr[i][j]\n    arr.reverse()\n\nr1 = (rotate_transform([\n\t[2, 4],\n\t[0, 0]], 1),)\n#[\n#\t[0, 2],\n#\t[0, 4]\n#])\nfor i in r1:\n        for j in i: \n            print(j)\n        print(\"\\n\") \nr2 = (rotate_transform(\n[\n\t[2, 4],\n\t[0, 0]], -1),)\n#[\n#\t[4, 0],\n#\t[2, 0]\n#])\nfor i in r2:\n        for j in i: \n            print(j)\n        print(\"\\n\") \nr3 = (rotate_transform(\n[\n\t[1, 4, 0, 0],\n\t[2, 8, 0, 0],\n\t[0, 0, 3, 5],\n\t[0, 0, 7, 1]], 2),)\n#[\n#\t[1, 7, 0, 0],\n#\t[5, 3, 0, 0],\n#\t[0, 0, 8, 2],\n#\t[0, 0, 4, 1]\n#])\nfor i in r3:\n        for j in i: \n            print(j)\n        print(\"\\n\") ",
      "metadata": {
        "trusted": true
      },
      "execution_count": 30,
      "outputs": [
        {
          "name": "stdout",
          "text": "[0, 2]\n[0, 4]\n\n\n[4, 0]\n[2, 0]\n\n\n[1, 7, 0, 0]\n[5, 3, 0, 0]\n[0, 0, 8, 2]\n[0, 0, 4, 1]\n\n\n",
          "output_type": "stream"
        }
      ]
    },
    {
      "cell_type": "code",
      "source": "https://edabit.com/challenge/T4q8P8cxvBtaLPW4q\ndef extract_primes(num):\n  a = []\n  b = []\n  for i in range(2,num+1):\n    for j in range(2,i):\n      if i%j==0:\n        break\n    else:a.append([i]*str(num).count(str(i)))if str(i) in str(num)else False\n  for i in a:\n    for j in i:\n      b.append(j)\n  return b\nprint(extract_primes(1))\nprint(extract_primes(2))\nprint(extract_primes(3))\nprint(extract_primes(13))\nprint(extract_primes(101))\nprint(extract_primes(313))\nprint(extract_primes(10234))\n#Test.assert_equals(extract_primes(1), [])\n#Test.assert_equals(extract_primes(2), [2])\n#Test.assert_equals(extract_primes(3), [3])\n#Test.assert_equals(extract_primes(13), [3, 13])\n#Test.assert_equals(extract_primes(101), [101])\n#Test.assert_equals(extract_primes(313), [3, 3, 13, 31, 313])\n#Test.assert_equals(extract_primes(10234), [2, 3, 23])",
      "metadata": {
        "trusted": true
      },
      "execution_count": 31,
      "outputs": [
        {
          "name": "stdout",
          "text": "[]\n[2]\n[3]\n[3, 13]\n[101]\n[3, 3, 13, 31, 313]\n[2, 3, 23]\n",
          "output_type": "stream"
        }
      ]
    },
    {
      "cell_type": "code",
      "source": "https://edabit.com/challenge/j9zed4GnykS48W6vh\ndef digits(n):\n    l = len(str(n))\n    return n * l - int('1' * l)\n\nprint(digits(1))\n#digits(1) ➞ 0\nprint(digits(10))\n#digits(10) ➞ 9\nprint(digits(100))\n#digits(100) ➞ 189\nprint(digits(2020))\n#digits(2020) ➞ 6969",
      "metadata": {
        "trusted": true
      },
      "execution_count": 33,
      "outputs": [
        {
          "name": "stdout",
          "text": "0\n9\n189\n6969\n",
          "output_type": "stream"
        }
      ]
    },
    {
      "cell_type": "code",
      "source": "",
      "metadata": {},
      "execution_count": null,
      "outputs": []
    }
  ]
}